{
  "nbformat": 4,
  "nbformat_minor": 0,
  "metadata": {
    "colab": {
      "name": "Predicting graduate admission chances using multiple linear regression",
      "provenance": [],
      "authorship_tag": "ABX9TyMVM1X6BS8kcpE5TUvdS8n6"
    },
    "kernelspec": {
      "name": "python3",
      "display_name": "Python 3"
    },
    "language_info": {
      "name": "python"
    }
  },
  "cells": [
    {
      "cell_type": "code",
      "execution_count": 2,
      "metadata": {
        "id": "SFVdB1PiFPvN"
      },
      "outputs": [],
      "source": [
        "import pandas as pd\n",
        "dataset = pd.read_csv(\"Admission_Predict.csv\")"
      ]
    },
    {
      "cell_type": "code",
      "source": [
        "x = dataset.iloc[:, 0:6].values #Assigning all 6 categories as independent variable (x-value)\n",
        "y = dataset.iloc[:,7].values #Assigning chance of admission as the dependent value (y-value we want to predict)"
      ],
      "metadata": {
        "id": "DiZQ4T8eGKjt"
      },
      "execution_count": 3,
      "outputs": []
    },
    {
      "cell_type": "code",
      "source": [
        "#Divided up data into training and testing data to prevent overfitting\n",
        "#20 percent (100 entries) are set aside to test the accuracy of the model later on\n",
        "\n",
        "from sklearn.model_selection import train_test_split\n",
        "\n",
        "x_train, x_test, y_train, y_test = train_test_split(x,y, test_size = 0.2)"
      ],
      "metadata": {
        "id": "t_BTsufFHJAF"
      },
      "execution_count": 4,
      "outputs": []
    },
    {
      "cell_type": "code",
      "source": [
        "from sklearn.preprocessing import PolynomialFeatures\n",
        "from sklearn.linear_model import LinearRegression\n",
        "\n",
        "multi_poly = PolynomialFeatures(degree = 1) #Played around with the degree to see what fits the data best (has the lowest mean squared error when run)\n",
        "x_poly = multi_poly.fit_transform(x_train)#transforming the data to fit a scale and be represented polynomially\n",
        "multi_poly.fit(x_poly, y_train)"
      ],
      "metadata": {
        "colab": {
          "base_uri": "https://localhost:8080/"
        },
        "id": "rp7RvfZqIUtl",
        "outputId": "a952fb61-1347-419c-b86b-31e44b2e9183"
      },
      "execution_count": 23,
      "outputs": [
        {
          "output_type": "execute_result",
          "data": {
            "text/plain": [
              "PolynomialFeatures(degree=1)"
            ]
          },
          "metadata": {},
          "execution_count": 23
        }
      ]
    },
    {
      "cell_type": "code",
      "source": [
        "lin_reg_multi =LinearRegression()\n",
        "lin_reg_multi.fit(x_poly, y_train)"
      ],
      "metadata": {
        "colab": {
          "base_uri": "https://localhost:8080/"
        },
        "id": "O9ng5wWJJAtC",
        "outputId": "9e16cc68-f062-4d5f-e71f-ae1540748c59"
      },
      "execution_count": 24,
      "outputs": [
        {
          "output_type": "execute_result",
          "data": {
            "text/plain": [
              "LinearRegression()"
            ]
          },
          "metadata": {},
          "execution_count": 24
        }
      ]
    },
    {
      "cell_type": "code",
      "source": [
        "y_preds = lin_reg_multi.predict(multi_poly.fit_transform(x_test)) #Giving the model the test data's x -values for the first time to judge its performance\n",
        "\n",
        "from sklearn import metrics\n",
        "\n",
        "#Since in this case we can't graph the data on a 2d plane, we can calculate the mean squared error to determine the model's accuracy\n",
        "#Finding difference between each predicted y-value and actual y-value\n",
        "print(metrics.mean_squared_error(y_test, y_preds)) "
      ],
      "metadata": {
        "colab": {
          "base_uri": "https://localhost:8080/"
        },
        "id": "ER7MazG1ilyw",
        "outputId": "98eb0a13-1e85-451a-d793-9334b2090ebc"
      },
      "execution_count": 25,
      "outputs": [
        {
          "output_type": "stream",
          "name": "stdout",
          "text": [
            "0.1417571462544805\n"
          ]
        }
      ]
    }
  ]
}